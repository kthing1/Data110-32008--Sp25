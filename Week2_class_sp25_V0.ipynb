{
  "cells": [
    {
      "cell_type": "markdown",
      "metadata": {
        "id": "view-in-github",
        "colab_type": "text"
      },
      "source": [
        "<a href=\"https://colab.research.google.com/github/kthing1/Data110-32008--Sp25/blob/main/Week2_class_sp25_V0.ipynb\" target=\"_parent\"><img src=\"https://colab.research.google.com/assets/colab-badge.svg\" alt=\"Open In Colab\"/></a>"
      ]
    },
    {
      "cell_type": "code",
      "execution_count": null,
      "metadata": {
        "id": "Xv1HkBink8PB"
      },
      "outputs": [],
      "source": [
        "import matplotlib.pyplot as plt\n",
        "import numpy as np\n",
        "import pandas as pd"
      ]
    },
    {
      "cell_type": "markdown",
      "metadata": {
        "id": "MNc4Mdt7mwtX"
      },
      "source": [
        "# Working with Dataset Files (CSV)\n",
        "\n",
        "There are two main ways to load data into your notebook:\n",
        "\n",
        "1. **Direct Upload**: Upload a CSV file directly to Google Colab\n",
        "   - Good for small to medium files\n",
        "   - You'll need to re-upload if you close and reopen Colab\n",
        "\n",
        "2. **GitHub URL**: Use a direct link to the raw file on GitHub\n",
        "   - Works for any file size\n",
        "   - No need to upload files manually\n",
        "   - Links remain stable\n",
        "\n",
        "For this tutorial, we'll be working with 'happiness_2017.csv'."
      ]
    },
    {
      "cell_type": "code",
      "execution_count": null,
      "metadata": {
        "id": "dlUIlnKGl9P6"
      },
      "outputs": [],
      "source": [
        "\n",
        "df=pd.read_csv(\"https://raw.githubusercontent.com/Reben80/Data110-32008--Sp25/refs/heads/main/dataset/happiness_2017.csv\")\n",
        "# or\n",
        "\n",
        "#in case you have the csv file already upploaded to the google colab directory ( left side panel) remember if you close and come back another day this you still need to uplad this agaion\n",
        "#df=pd.read_csv(\"/content/happiness_2017.csv\")\n",
        "\n",
        "\n",
        "\n"
      ]
    },
    {
      "cell_type": "markdown",
      "metadata": {
        "id": "c7XOKvMToPkp"
      },
      "source": [
        "# Exploring Your Dataset\n",
        "\n",
        "When working with a new dataset, there are several essential steps to understand your data:\n",
        "\n",
        "1. **View Sample Data**: Use `df.head()` to see the first few rows\n",
        "   - `df.head()` shows first 5 rows\n",
        "   - `df.head(10)` shows first 10 rows\n",
        "   - `df.tail()` shows last 5 rows\n",
        "\n",
        "This gives you a quick preview of what your data looks like."
      ]
    },
    {
      "cell_type": "code",
      "execution_count": null,
      "metadata": {
        "id": "ffc4zOFdoguV"
      },
      "outputs": [],
      "source": [
        "df.head(10)"
      ]
    },
    {
      "cell_type": "code",
      "execution_count": null,
      "metadata": {
        "id": "rjNBmfyFozU-"
      },
      "outputs": [],
      "source": [
        "df.tail()"
      ]
    },
    {
      "cell_type": "markdown",
      "metadata": {
        "id": "hELqYPsCozHw"
      },
      "source": [
        "# Understanding Your Data Structure\n",
        "\n",
        "`df.info()` is a powerful command that tells you:\n",
        "- How many rows and columns you have\n",
        "- The name of each column\n",
        "- The data type of each column (int, float, string, etc.)\n",
        "- How many non-null values exist\n",
        "- How much memory your data is using\n",
        "\n",
        "This is crucial for identifying missing data and understanding your dataset's structure."
      ]
    },
    {
      "cell_type": "code",
      "execution_count": null,
      "metadata": {
        "id": "uZ1r2aUgpQCv"
      },
      "outputs": [],
      "source": [
        "df.info()"
      ]
    },
    {
      "cell_type": "markdown",
      "metadata": {
        "id": "jpYMmajEpOrn"
      },
      "source": [
        "# Statistical Summary\n",
        "\n",
        "For numerical data, `df.describe()` provides key statistics:\n",
        "- count: number of non-null values\n",
        "- mean: average value\n",
        "- std: standard deviation\n",
        "- min: minimum value\n",
        "- 25%, 50%, 75%: quartile values\n",
        "- max: maximum value\n",
        "\n",
        "This helps you understand the distribution of your numerical data."
      ]
    },
    {
      "cell_type": "code",
      "execution_count": null,
      "metadata": {
        "id": "NewiqzlipqME"
      },
      "outputs": [],
      "source": [
        "df.describe()"
      ]
    },
    {
      "cell_type": "markdown",
      "metadata": {
        "id": "sFqZz2IupjWf"
      },
      "source": [
        "# Working with Column Names\n",
        "\n",
        "A helpful tip: Instead of typing column names manually (which can lead to errors), you can:\n",
        "1. Use `print(df.columns)` to see all column names\n",
        "2. Copy and paste the exact column names you need\n",
        "3. This prevents typos that could cause your code to fail"
      ]
    },
    {
      "cell_type": "code",
      "execution_count": null,
      "metadata": {
        "id": "rtHgMrKJqL3e"
      },
      "outputs": [],
      "source": [
        "print(df.columns)"
      ]
    },
    {
      "cell_type": "markdown",
      "metadata": {
        "id": "QhXUecT-pz3B"
      },
      "source": [
        "# Creating Scatter Plots\n",
        "\n",
        "Now we'll learn how to create scatter plots using matplotlib. A scatter plot is perfect for showing relationships between two variables.\n",
        "\n",
        "Basic syntax: `plt.scatter(x_data, y_data)`\n",
        "\n",
        "We'll improve our plots step by step:\n",
        "1. Start with a basic plot\n",
        "2. Add proper sizing\n",
        "3. Include labels and titles\n",
        "4. Customize the appearance"
      ]
    },
    {
      "cell_type": "code",
      "execution_count": null,
      "metadata": {
        "id": "2PjUJ8HXqEM6"
      },
      "outputs": [],
      "source": [
        "plt.scatter(df['Rank'],df['HappinessScore'])"
      ]
    },
    {
      "cell_type": "markdown",
      "metadata": {
        "id": "7MITOyObqHkM"
      },
      "source": [
        "# Customizing Plot Size\n",
        "\n",
        "The figure size determines how large your plot will appear:\n",
        "- `plt.figure(figsize=(width, height))`\n",
        "- Width and height are in inches\n",
        "- Common sizes: (10,6), (16,10)\n",
        "- Larger figures are better for presentations\n",
        "- Smaller figures work well for documents"
      ]
    },
    {
      "cell_type": "code",
      "execution_count": null,
      "metadata": {
        "id": "t9-PSoNMqcz9"
      },
      "outputs": [],
      "source": [
        "plt.figure(figsize=(16,10))\n",
        "plt.scatter(df['Rank'],df['HappinessScore'])"
      ]
    },
    {
      "cell_type": "markdown",
      "metadata": {
        "id": "oOTSwnOcqgDe"
      },
      "source": [
        "# Essential Plot Components\n",
        "\n",
        "Every professional plot should include:\n",
        "1. **X-axis label**: `plt.xlabel('Label Name')`\n",
        "2. **Y-axis label**: `plt.ylabel('Label Name')`\n",
        "3. **Title**: `plt.title('Your Title')`\n",
        "4. **plt.show()**: Always end with this to display the plot cleanly\n",
        "\n",
        "These elements help others understand your visualization immediately."
      ]
    },
    {
      "cell_type": "code",
      "execution_count": null,
      "metadata": {
        "id": "6z1yleZSqTb4"
      },
      "outputs": [],
      "source": [
        "plt.figure(figsize=(16,10))\n",
        "plt.scatter(df['Rank'],df['HappinessScore'])\n",
        "plt.xlabel('Rank')\n",
        "plt.ylabel('Happiness Score')\n",
        "plt.title(\" Rank vs Hapiness\")\n",
        "plt.show()\n",
        "\n",
        "# info about scatter plot https://matplotlib.org/stable/api/_as_gen/matplotlib.pyplot.scatter.html"
      ]
    },
    {
      "cell_type": "markdown",
      "metadata": {
        "id": "advanced_scatter_customization"
      },
      "source": [
        "# Advanced Scatter Plot Customization\n",
        "\n",
        "Let's create a professional-looking scatter plot with all the important customization options:\n",
        "\n",
        "**Key Parameters:**\n",
        "- `color`: Choose point color ('blue', 'red', etc.)\n",
        "- `marker`: Point shape ('o' for circle, 's' for square, '^' for triangle)\n",
        "- `edgecolors`: Outline color of points\n",
        "- `alpha`: Transparency (0 to 1)\n",
        "- `s`: Point size\n",
        "\n",
        "**Styling Elements:**\n",
        "- `fontsize`: Control text size\n",
        "- `fontweight`: Make text bold\n",
        "- `grid`: Add background grid\n",
        "- `xticks/yticks`: Customize axis numbers\n",
        "\n",
        "Below is a complete example using these parameters:"
      ]
    },
    {
      "cell_type": "code",
      "execution_count": null,
      "metadata": {
        "id": "M2W_9xaerXLs"
      },
      "outputs": [],
      "source": [
        "# Explanation of Scatter Plot Parameters\n",
        "\n",
        "\n",
        "# Set the figure size\n",
        "plt.figure(figsize=(16,10))  # 16 inches wide and 10 inches tall for better readability\n",
        "\n",
        "# Scatter plot with styling\n",
        "plt.scatter(df['Rank'], df['HappinessScore'],\n",
        "            color='blue',         # Sets marker color to blue\n",
        "            marker='o',           # Uses circular markers\n",
        "            edgecolors='black',    # Adds a black outline to markers\n",
        "            alpha=0.75,           # Makes points slightly transparent (75% opacity)\n",
        "            s=50)                # change marker size\n",
        "\n",
        "# X and Y axis labels with styling\n",
        "plt.xlabel('Rank', fontsize=14, fontweight='bold')  # Bold and larger font for readability\n",
        "plt.ylabel('Happiness Score', fontsize=14, fontweight='bold')\n",
        "\n",
        "# Title of the plot\n",
        "plt.title(\"Rank vs Happiness Score\", fontsize=18, fontweight='bold')  # Larger and bold title\n",
        "\n",
        "# Grid for better readability\n",
        "plt.grid(True, linestyle='--', alpha=0.5)  # Dashed grid lines with slight transparency\n",
        "\n",
        "# Adjust tick label size\n",
        "plt.xticks(fontsize=12)\n",
        "plt.yticks(fontsize=12)\n",
        "\n",
        "# Invert x-axis if lower rank means better happiness\n",
        "plt.gca().invert_xaxis()\n",
        "\n",
        "# Show the plot\n",
        "plt.show()\n"
      ]
    },
    {
      "cell_type": "markdown",
      "metadata": {
        "id": "UIkei8MVsWke"
      },
      "source": [
        "# Styling Your Plots\n",
        "\n",
        "Matplotlib offers pre-built styles to make your plots look professional:\n",
        "1. Check available styles with `plt.style.available`\n",
        "2. Apply a style with `plt.style.use('style_name')`\n",
        "3. Popular styles include:\n",
        "   - 'ggplot': Clean, professional look (from R)\n",
        "   - 'seaborn': Modern, attractive defaults\n",
        "   - 'classic': Traditional matplotlib style\n",
        "\n",
        "Try different styles to find what works best for your presentation!"
      ]
    },
    {
      "cell_type": "code",
      "execution_count": null,
      "metadata": {
        "id": "gTvwLjTSn8sf"
      },
      "outputs": [],
      "source": [
        "plt.style.available"
      ]
    },
    {
      "cell_type": "code",
      "execution_count": null,
      "metadata": {
        "id": "u2KAziXon49m"
      },
      "outputs": [],
      "source": [
        "plt.style.use('ggplot')"
      ]
    },
    {
      "cell_type": "code",
      "execution_count": null,
      "metadata": {
        "id": "tmMC9uA0n-WY"
      },
      "outputs": [],
      "source": [
        "plt.figure(figsize=(16,10))\n",
        "plt.scatter(df['Rank'],df['HappinessScore'])\n",
        "plt.xlabel('Rank')\n",
        "plt.ylabel('Happiness Score')\n",
        "plt.title(\" Rank vs Hapiness\")\n",
        "plt.show()"
      ]
    },
    {
      "cell_type": "markdown",
      "metadata": {
        "id": "kNOh6a3hs2lJ"
      },
      "source": [
        "a good place to learn more about how to style your scatter plot, it the offical website of [Matplotlib](https://matplotlib.org/stable/api/_as_gen/matplotlib.pyplot.scatter.html). check it our and try to experment with some of the setting."
      ]
    },
    {
      "cell_type": "markdown",
      "metadata": {
        "id": "practice_assignments"
      },
      "source": [
        "# Practice Assignments 📊\n",
        "\n",
        "Let's practice creating scatter plots using different variables from our happiness dataset!\n",
        "\n",
        "### Assignment 1: Basic Scatter Plot\n",
        "Create a scatter plot showing the relationship between 'Log GDP per capita' and 'HappinessScore'.\n",
        "- Use appropriate axis labels\n",
        "- Add a title\n",
        "- Set figure size to (12,8)\n",
        "\n",
        "### Assignment 2: Styled Scatter Plot\n",
        "Create a scatter plot comparing 'Social support' vs 'Healthy life expectancy at birth'.\n",
        "- Use red markers with black edges\n",
        "- Set marker size to 100\n",
        "- Add a grid\n",
        "- Make markers semi-transparent (alpha=0.6)\n",
        "\n",
        "### Assignment 3: Advanced Visualization\n",
        "Create a scatter plot showing 'Freedom to make life choices' vs 'Positive affect'.\n",
        "- Use triangle markers ('^')\n",
        "- Make the plot blue with yellow edges\n",
        "- Add bold labels\n",
        "- Include a grid with dashed lines\n",
        "\n",
        "### Bonus Challenge 🌟\n",
        "Create a scatter plot comparing any two variables of your choice, but:\n",
        "- Use a style from `plt.style.available`\n",
        "- Add custom font sizes for labels\n",
        "- Include a brief interpretation of what the plot shows\n",
        "\n"
      ]
    },
    {
      "cell_type": "code",
      "execution_count": null,
      "metadata": {
        "id": "NO-O185Z2mfd"
      },
      "outputs": [],
      "source": [
        "# Your code should be here"
      ]
    },
    {
      "cell_type": "markdown",
      "metadata": {
        "id": "tq3ok6RDsQa9"
      },
      "source": [
        "--------------------------------"
      ]
    },
    {
      "cell_type": "markdown",
      "metadata": {
        "id": "zne5DRZk2mfd"
      },
      "source": [
        "###  Anscombe's Quartet Dataset\n",
        "\n",
        "This dataset is known as **Anscombe's Quartet**, created by statistician Francis Anscombe to illustrate the importance of visualizing data. Despite having nearly identical statistical properties (e.g., mean, variance, correlation, and linear regression), each dataset tells a very different story when graphed.\n",
        "\n",
        "- **x**: The independent variable, common across three datasets.\n",
        "- **y1, y2, y3**: Three different dependent variables associated with the same `x` values.\n",
        "- **x4, y4**: A special case where most of the `x` values are identical, with one outlier.\n",
        "\n",
        "#### Anscombe's Quartet:"
      ]
    },
    {
      "cell_type": "code",
      "execution_count": null,
      "metadata": {
        "id": "0gqhfmtL2mfd"
      },
      "outputs": [],
      "source": [
        "# Anscombe's Quartet:\n",
        "x = [10, 8, 13, 9, 11, 14, 6, 4, 12, 7, 5]\n",
        "y1 = [8.04, 6.95, 7.58, 8.81, 8.33, 9.96, 7.24, 4.26, 10.84, 4.82, 5.68]\n",
        "y2 = [9.14, 8.14, 8.74, 8.77, 9.26, 8.10, 6.13, 3.10, 9.13, 7.26, 4.74]\n",
        "y3 = [7.46, 6.77, 12.74, 7.11, 7.81, 8.84, 6.08, 5.39, 8.15, 6.42, 5.73]\n",
        "x4 = [8, 8, 8, 8, 8, 8, 8, 19, 8, 8, 8]\n",
        "y4 = [6.58, 5.76, 7.71, 8.84, 8.47, 7.04, 5.25, 12.50, 5.56, 7.91, 6.89]"
      ]
    },
    {
      "cell_type": "code",
      "execution_count": null,
      "metadata": {
        "id": "vbqVL4P22mfe"
      },
      "outputs": [],
      "source": [
        "plt.scatter(x, y1)"
      ]
    },
    {
      "cell_type": "markdown",
      "metadata": {
        "id": "dvWof_-82mfe"
      },
      "source": [
        "Lets also do the linear regression for this dataset, do not worry about the code for now, just focus on the output. and we will be back to this code later."
      ]
    },
    {
      "cell_type": "code",
      "execution_count": null,
      "metadata": {
        "id": "oblOu-xi2mfe"
      },
      "outputs": [],
      "source": [
        "# Calculate the slope (m) and intercept (b) of the line using np.polyfit\n",
        "m, b = np.polyfit(x, y1, 1)\n",
        "\n",
        "# Create the regression line\n",
        "regression_line = m * np.array(x) + b\n",
        "\n",
        "# Plot the data points and regression line\n",
        "plt.scatter(x, y1)\n",
        "plt.plot(x, regression_line,color='blue')\n",
        "plt.xlabel('x')\n",
        "plt.ylabel('y1')\n"
      ]
    },
    {
      "cell_type": "markdown",
      "metadata": {
        "id": "LrAoJcGL2mfe"
      },
      "source": [
        "### Assignment 4: Anscombe's Quartet and Linear Regression\n",
        "\n",
        "Perform the same linear regression process for the following datasets: y2, y3, and y4. Modify the code to calculate and plot the regression lines for each of these datasets. Use distinct colors for each plot and appropriately label the axes (y2, y3, etc.). Discuss any differences you observe when comparing the results across all datasets."
      ]
    },
    {
      "cell_type": "code",
      "execution_count": null,
      "metadata": {
        "id": "CYu75TvR2mff"
      },
      "outputs": [],
      "source": [
        "#Your code should be here"
      ]
    }
  ],
  "metadata": {
    "colab": {
      "private_outputs": true,
      "provenance": [],
      "include_colab_link": true
    },
    "kernelspec": {
      "display_name": "Python 3",
      "name": "python3"
    },
    "language_info": {
      "codemirror_mode": {
        "name": "ipython",
        "version": 3
      },
      "file_extension": ".py",
      "mimetype": "text/x-python",
      "name": "python",
      "nbconvert_exporter": "python",
      "pygments_lexer": "ipython3",
      "version": "3.11.9"
    }
  },
  "nbformat": 4,
  "nbformat_minor": 0
}